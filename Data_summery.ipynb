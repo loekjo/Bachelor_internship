{
 "cells": [
  {
   "cell_type": "code",
   "id": "initial_id",
   "metadata": {
    "collapsed": true,
    "ExecuteTime": {
     "end_time": "2024-06-19T13:15:18.334829Z",
     "start_time": "2024-06-19T13:15:18.324050Z"
    }
   },
   "source": [
    "# imports\n",
    "import pandas as pd\n",
    "import matplotlib.pyplot as plt\n",
    "import seaborn as sns\n",
    "from scipy.stats import mannwhitneyu \n",
    "import numpy as np\n",
    "from collections import Counter"
   ],
   "outputs": [],
   "execution_count": 1
  },
  {
   "cell_type": "code",
   "source": [
    "# functions\n",
    "def remove_undesired_lengths(sequ, lower, upper):\n",
    "    new = []\n",
    "    for seq in sequ:\n",
    "        if len(seq) > lower and len(seq) < upper:\n",
    "            new.append(seq)\n",
    "    return new\n",
    "\n",
    "\n",
    "# functions\n",
    "def length_list(sequ):\n",
    "    output = []\n",
    "    for seq in sequ:\n",
    "        output.append(len(seq))\n",
    "    return output\n",
    "\n",
    "\n",
    "def get_chars(sequ):\n",
    "    char = []\n",
    "    for seq in sequ:\n",
    "        for c in seq:\n",
    "            if c not in char:\n",
    "                char.append(c)\n",
    "    return char\n",
    "\n",
    "\n",
    "def list_all_values_df(frame, culumn):\n",
    "    all_values = []\n",
    "    for value in frame[culumn]:\n",
    "        if value not in all_values:\n",
    "            all_values.append(value)\n",
    "    return all_values\n",
    "\n",
    "\n",
    "def remove_after_character_in_df(frame, column, char):\n",
    "    frame[column] = frame[column].apply(lambda text: text.split(char)[0])\n",
    "    \n",
    "    \n",
    "def get_amount_values(frame, column, value):\n",
    "    count = len(frame[frame[column] == value])\n",
    "    return count\n",
    "\n",
    "\n",
    "def count_types_column(frame, column, types):\n",
    "    class_count = {}\n",
    "    for sort in types:\n",
    "        count = 0\n",
    "        for i in frame[column]:\n",
    "            if sort == i:\n",
    "                count += 1\n",
    "        class_count[sort] = count\n",
    "    return class_count\n"
   ],
   "metadata": {
    "collapsed": false,
    "ExecuteTime": {
     "end_time": "2024-06-19T13:15:18.350869Z",
     "start_time": "2024-06-19T13:15:18.335899Z"
    }
   },
   "id": "15d78a10747196f5",
   "outputs": [],
   "execution_count": 2
  },
  {
   "cell_type": "code",
   "source": [
    "# importing data into a DF\n",
    "with open('C:/Users/loekd/OneDrive/Documenten/SearchTable-2024-02-06 12_24_08.532.tsv', 'r') as file:\n",
    "    df = pd.read_csv(file, sep='\\t')\n",
    "print(f'with duplicates {len(df)}')\n",
    "df = df.drop_duplicates(subset=['CDR3'])\n",
    "print(f'Without duplicates {len(df)}')\n"
   ],
   "metadata": {
    "collapsed": false,
    "ExecuteTime": {
     "end_time": "2024-06-19T13:15:19.889980Z",
     "start_time": "2024-06-19T13:15:18.351973Z"
    }
   },
   "id": "f79998e9bc076d56",
   "outputs": [
    {
     "name": "stdout",
     "output_type": "stream",
     "text": [
      "with duplicates 84388\n",
      "Without duplicates 63662\n"
     ]
    }
   ],
   "execution_count": 3
  },
  {
   "cell_type": "code",
   "source": [
    "# to make graph of length distributions\n",
    "# Extract the string for TRA\n",
    "TRA_seq = []\n",
    "for index, row in df.iterrows():\n",
    "    if row['Gene'] == 'TRA':\n",
    "        TRA_seq.append(row['CDR3'])\n",
    "\n",
    "# extracting strings for TRB\n",
    "TRB_seq = []\n",
    "for index, row in df.iterrows():\n",
    "    if row['Gene'] == 'TRB':\n",
    "        TRB_seq.append(row['CDR3'])\n",
    "\n",
    "# to get list of sequence lengths\n",
    "TRA_seq_len = length_list(TRA_seq)\n",
    "TRB_seq_len = length_list(TRB_seq)\n",
    "complete = TRA_seq_len + TRB_seq_len\n",
    "\n",
    "# Create a histogram\n",
    "# Count the occurrences of each length\n",
    "length_counts = Counter(complete)\n",
    "\n",
    "# Convert the result into a DataFrame\n",
    "lengths_general_df = pd.DataFrame({'Length': list(length_counts.keys()), 'Occurrences': list(length_counts.values())})\n",
    "\n",
    "ax = sns.barplot(data=lengths_general_df, x='Length', y='Occurrences')\n",
    "plt.xlabel('Length')\n",
    "plt.ylabel('Occurrences')\n",
    "for i in ax.containers:\n",
    "    ax.bar_label(i,)\n",
    "plt.savefig('plots/lengthdistibution.png', bbox_inches='tight')\n",
    "plt.close()\n",
    "\n",
    "# making pie chart of \n",
    "TRX_amount = {'TCR type': ['TRA', 'TRB'], 'Sequence length': [len(TRA_seq), len(TRB_seq)]}\n",
    "TRX_df = pd.DataFrame(TRX_amount)\n",
    "\n",
    "# Create the bar plot\n",
    "plt.figure(figsize=(6, 6))\n",
    "patches, texts, autotexts = plt.pie(TRX_df['Sequence length'], labels=TRX_df['TCR type'], autopct='%1.1f%%', startangle=140)\n",
    "plt.axis('equal')\n",
    "# Adjusting label and percentage font sizes for this plot only\n",
    "for text in texts + autotexts:\n",
    "    text.set_fontsize(50)  # Adjust font size for labels and percentage values\n",
    "plt.savefig('plots/TRATRB_amount.png', bbox_inches='tight')\n",
    "plt.close()\n",
    "\n",
    "\n",
    "# to print total amount of sequences between 10 and 20 AA\n",
    "TRA_cut = remove_undesired_lengths(TRA_seq, 10, 20)\n",
    "print(f'Amount TRA {len(TRA_cut)}')\n",
    "TRB_cut = remove_undesired_lengths(TRB_seq, 10, 20)\n",
    "print(f'Amount TRB {len(TRB_cut)}')"
   ],
   "metadata": {
    "collapsed": false,
    "ExecuteTime": {
     "end_time": "2024-06-19T13:15:27.281141Z",
     "start_time": "2024-06-19T13:15:19.889980Z"
    }
   },
   "id": "c9f6b052c06ce53a",
   "outputs": [
    {
     "name": "stdout",
     "output_type": "stream",
     "text": [
      "Amount TRA 24140\n",
      "Amount TRB 37900\n"
     ]
    }
   ],
   "execution_count": 4
  },
  {
   "cell_type": "code",
   "source": [
    "#to get all mhc classes \n",
    "remove_after_character_in_df(df, 'MHC A', '*')\n",
    "remove_after_character_in_df(df, 'MHC B', '*')\n",
    "# show all type of MHC classes\n",
    "MHC_classes = list_all_values_df(df, 'MHC class')\n",
    "print(f'general MHC : {MHC_classes}')\n",
    "# subtypes in A\n",
    "A_subtype = list_all_values_df(df, 'MHC A')\n",
    "B_subtype = list_all_values_df(df, 'MHC B')\n",
    "print(f'MHC A: {A_subtype}')\n",
    "print(f'MHC B: {B_subtype}')\n",
    "\n",
    "print(len(A_subtype), len(B_subtype))\n"
   ],
   "metadata": {
    "collapsed": false,
    "ExecuteTime": {
     "end_time": "2024-06-19T13:15:27.373838Z",
     "start_time": "2024-06-19T13:15:27.281141Z"
    }
   },
   "id": "a635f421ad7022f4",
   "outputs": [
    {
     "name": "stdout",
     "output_type": "stream",
     "text": [
      "general MHC : ['MHCI', 'MHCII']\n",
      "MHC A: ['HLA-A', 'HLA-B', 'HLA-DRA1', 'HLA-E', 'HLA-C', 'HLA-DRA', 'HLA-DQA1', 'HLA-DPA1', 'HLA-DRB1', 'HLA-DQA', 'HLA-DPA']\n",
      "MHC B: ['B2M', 'HLA-DRB1', 'HLA-DRB3', 'HLA-DQB1', 'HLA-DRB5', 'HLA-DPB1', 'HLA-DRA', 'HLA-DPB']\n",
      "11 8\n"
     ]
    }
   ],
   "execution_count": 5
  },
  {
   "cell_type": "code",
   "source": [
    "\n",
    "# Make barplot of all mhc 1 vs mhc2\n",
    "MHC_1_count = get_amount_values(df, 'MHC class', 'MHCI')\n",
    "MHC_2_count = get_amount_values(df, 'MHC class', 'MHCII')\n",
    "MHC_count = pd.DataFrame({'MHC class I': [MHC_1_count], 'MHC class II': [MHC_2_count]})\n",
    "print(MHC_count)\n",
    "ax = sns.barplot(data=MHC_count)\n",
    "for i in ax.containers:\n",
    "    ax.bar_label(i,)\n",
    "ax.set_xlabel('Class')\n",
    "ax.set_ylabel('Count')\n",
    "\n",
    "\n",
    "plt.savefig('plots/MHC_distribution.png', bbox_inches='tight')\n",
    "plt.close()"
   ],
   "metadata": {
    "collapsed": false,
    "ExecuteTime": {
     "end_time": "2024-06-19T13:15:27.689573Z",
     "start_time": "2024-06-19T13:15:27.373838Z"
    }
   },
   "id": "ac1514291ceb4f2",
   "outputs": [
    {
     "name": "stdout",
     "output_type": "stream",
     "text": [
      "   MHC class I  MHC class II\n",
      "0        60456          3206\n"
     ]
    }
   ],
   "execution_count": 6
  },
  {
   "cell_type": "code",
   "source": [
    "# to get barplot of all seperate mhc classes:\n",
    "A_sub = count_types_column(df, 'MHC A', A_subtype)\n",
    "\n",
    "A_subtype_count = pd.Series(A_sub)\n",
    "A_subtype_count = A_subtype_count.sort_index()\n",
    "\n",
    "ax = sns.barplot(data= A_subtype_count)\n",
    "for i in ax.containers:\n",
    "    ax.bar_label(i,)\n",
    "    \n",
    "ax.set_yscale('log')\n",
    "ax.set_xlabel('Type')\n",
    "ax.set_ylabel('Count (log scale)')\n",
    "\n",
    "ax.tick_params(labelrotation=45)\n",
    "plt.savefig('plots/MHCA_subtype_distribution.png', bbox_inches='tight')\n",
    "plt.close()\n"
   ],
   "metadata": {
    "collapsed": false,
    "ExecuteTime": {
     "end_time": "2024-06-19T13:15:28.711387Z",
     "start_time": "2024-06-19T13:15:27.689573Z"
    }
   },
   "id": "a5bf3dda7bfd0550",
   "outputs": [],
   "execution_count": 7
  },
  {
   "cell_type": "code",
   "source": [
    "# repeat for b\n",
    "B_sub = count_types_column(df, 'MHC B', B_subtype)\n",
    "\n",
    "B_subtype_count = pd.Series(B_sub)\n",
    "B_subtype_count = B_subtype_count.sort_index()\n",
    "B_subtype_count = B_subtype_count.drop('B2M')\n",
    "\n",
    "ax = sns.barplot(data= B_subtype_count)\n",
    "for i in ax.containers:\n",
    "    ax.bar_label(i,)\n",
    "    \n",
    "ax.set_yscale('log')\n",
    "ax.set_xlabel('Type')\n",
    "ax.set_ylabel('Count (log scale)')\n",
    "\n",
    "ax.tick_params(labelrotation=45)\n",
    "\n",
    "plt.savefig('plots/MHCB_subtype_distribution.png', bbox_inches='tight')\n",
    "plt.close()"
   ],
   "metadata": {
    "collapsed": false,
    "ExecuteTime": {
     "end_time": "2024-06-19T13:15:29.358213Z",
     "start_time": "2024-06-19T13:15:28.711387Z"
    }
   },
   "id": "a12d3aae8b89c68e",
   "outputs": [],
   "execution_count": 8
  },
  {
   "cell_type": "code",
   "source": [
    "# to create a graph to compare average lengths\n",
    "# Create a DataFrame from the lists\n",
    "lengths = {'Group': ['TRA'] * len(TRA_seq_len) + ['TRB'] * len(TRB_seq_len),\n",
    "        'Length': TRA_seq_len + TRB_seq_len}\n",
    "lengths_df = pd.DataFrame(lengths)\n",
    "average_TRA = sum(TRA_seq_len) / len(TRA_seq_len)\n",
    "average_TRB = sum(TRB_seq_len) / len(TRB_seq_len)\n",
    "print(f'Average TRA: {average_TRA}, average TRB: {average_TRB}')\n",
    "# Create a boxplot to compare the distributions of lengths between the two groups\n",
    "sns.displot(data=lengths_df, kind='kde', fill=True, x='Length', hue='Group', bw_method=0.3)\n",
    "# Perform Mann-Whitney U test to assess the difference in distributions\n",
    "statistic, p_value = mannwhitneyu(np.array(TRA_seq_len), np.array(TRB_seq_len), alternative='less', method='asymptotic')\n",
    "\n",
    "plt.xlabel('Length (amino acid)')\n",
    "plt.ylabel('Density')\n",
    "plt.savefig('plots/distplot_lengths_mannwhitney.png', bbox_inches='tight')\n",
    "\n",
    "print(f\"p-value: {p_value}, statistic: {statistic}\")"
   ],
   "metadata": {
    "collapsed": false,
    "ExecuteTime": {
     "end_time": "2024-06-19T13:15:31.354729Z",
     "start_time": "2024-06-19T13:15:29.358213Z"
    }
   },
   "id": "1435cee1fcb30b0f",
   "outputs": [
    {
     "name": "stdout",
     "output_type": "stream",
     "text": [
      "Average TRA: 13.752478388452692, average TRB: 14.533061075850588\n",
      "p-value: 0.0, statistic: 374314294.5\n"
     ]
    },
    {
     "data": {
      "text/plain": [
       "<Figure size 577.875x500 with 1 Axes>"
      ],
      "image/png": "[encoded data removed]"
     },
     "metadata": {},
     "output_type": "display_data"
    }
   ],
   "execution_count": 9
  },
  {
   "cell_type": "code",
   "source": [
    "# to make a overview of common amino acids at each location \n",
    "def count_amino_acids(sequences):\n",
    "    # Initialize a dictionary to store counts\n",
    "    counts = {}\n",
    "\n",
    "    # Iterate through each sequence\n",
    "    for seq in sequences:\n",
    "        # Iterate through each position in the sequence\n",
    "        for i, aa in enumerate(seq):\n",
    "            # Check if the position is already in the dictionary\n",
    "            if i not in counts:\n",
    "                # If not, initialize the count for this position\n",
    "                counts[i] = {}\n",
    "            \n",
    "            # Increment the count for this amino acid at this position\n",
    "            counts[i][aa] = counts[i].get(aa, 0) + 1\n",
    "    \n",
    "    # Convert counts dictionary to a DataFrame\n",
    "    df = pd.DataFrame(counts).fillna(0).astype(int)\n",
    "\n",
    "    # Reorder columns by amino acid\n",
    "    df = df.reindex(sorted(df.columns), axis=1)\n",
    "    \n",
    "    # Transpose the DataFrame so that amino acids are in columns\n",
    "    df = df.transpose()\n",
    "    return df\n",
    "\n",
    "# Count amino acids for TRA and TRB\n",
    "resultA_df = count_amino_acids(TRA_cut)\n",
    "resultA_df = resultA_df.reindex(sorted(resultA_df.columns), axis=1)\n",
    "\n",
    "resultB_df = count_amino_acids(TRB_cut)\n",
    "resultB_df = resultB_df.reindex(sorted(resultB_df.columns), axis=1)\n",
    "\n",
    "fig, axes = plt.subplots(1, 2, figsize=(20, 6))  # Creating subplots with 1 row and 2 columns\n",
    "\n",
    "# Plot for TRA\n",
    "sns.heatmap(resultA_df, cmap=\"RdYlBu\", annot=False, fmt=\"d\", ax=axes[0])  # Using the first subplot (index 0)\n",
    "axes[0].set_title('Amino Acid Occurrences at Each Position in TRA')\n",
    "axes[0].set_xlabel('Position')\n",
    "axes[0].set_ylabel('Amino Acid')\n",
    "\n",
    "# Plot for TRB\n",
    "sns.heatmap(resultB_df, cmap=\"RdYlBu\", annot=False, fmt=\"d\", ax=axes[1])  # Using the second subplot (index 1)\n",
    "axes[1].set_title('Amino Acid Occurrences at Each Position in TRB')\n",
    "axes[1].set_xlabel('Position')\n",
    "axes[1].set_ylabel('Amino Acid')\n",
    "\n",
    "plt.savefig('plots/AA_perposition.png', bbox_inches='tight')\n",
    "plt.close()"
   ],
   "metadata": {
    "collapsed": false,
    "ExecuteTime": {
     "end_time": "2024-06-19T13:15:33.119962Z",
     "start_time": "2024-06-19T13:15:31.354729Z"
    }
   },
   "id": "7fc6f3b784f048bb",
   "outputs": [],
   "execution_count": 10
  },
  {
   "cell_type": "code",
   "source": [
    "# to make a histogram that looks at amino acid type instead\n",
    "# group definition\n",
    "aa_groups = {\n",
    "'electric_positive' : ['R', 'H', 'K',],\n",
    "'electric_negative' : ['D', 'E'],\n",
    "'uncharged_polar' : ['S', 'T', 'N', 'Q'],\n",
    "'Hydrophobic' : ['A', 'V', 'I', 'L', 'M', 'F', 'Y', 'W'],\n",
    "'special' : ['C', 'G', 'P']\n",
    "}\n",
    "\n",
    "\n",
    "def count_amino_acids_group(sequences, groups):\n",
    "    # Initialize a dictionary to store counts\n",
    "    counts = {}\n",
    "\n",
    "    # Iterate through each sequence\n",
    "    for seq in sequences:\n",
    "        # Iterate through each position in the sequence\n",
    "        for i, aa in enumerate(seq):\n",
    "            # Check if the position is already in the dictionary\n",
    "            if i not in counts:\n",
    "                # If not, initialize the count for this position\n",
    "                counts[i] = {}\n",
    "            \n",
    "            # Iterate through each group\n",
    "            for group, acids in groups.items():\n",
    "                # If the amino acid belongs to the group, increment the count\n",
    "                if aa in acids:\n",
    "                    counts[i][group] = counts[i].get(group, 0) + 1\n",
    "    \n",
    "    # Convert counts dictionary to a DataFrame\n",
    "    df = pd.DataFrame(counts).fillna(0).astype(int)\n",
    "\n",
    "    # Reorder columns by group\n",
    "    df = df.reindex(sorted(df.columns), axis=1)\n",
    "    \n",
    "    # Transpose the DataFrame so that groups are in columns\n",
    "    df = df.transpose()\n",
    "    return df\n",
    "\n",
    "TRA_groups = count_amino_acids_group(TRA_cut, aa_groups)\n",
    "TRB_groups = count_amino_acids_group(TRB_cut, aa_groups)\n",
    "TRA_groups= TRA_groups[sorted(TRA_groups.columns)]\n",
    "TRB_groups= TRB_groups[sorted(TRB_groups.columns)]\n"
   ],
   "metadata": {
    "collapsed": false,
    "ExecuteTime": {
     "end_time": "2024-06-19T13:15:34.058694Z",
     "start_time": "2024-06-19T13:15:33.119962Z"
    }
   },
   "id": "f1b89a7e42ec208b",
   "outputs": [],
   "execution_count": 11
  },
  {
   "cell_type": "code",
   "source": [
    "#to plot the different groups in a bar plot\n",
    "print(list(aa_groups.keys()))\n",
    "fig, axes = plt.subplots(1, 2, figsize=(20, 6))  # Creating subplots with 1 row and 2 columns\n",
    "\n",
    "# Plot for TRA\n",
    "sns.heatmap(TRA_groups, cmap=\"seismic\", annot=False, fmt=\"d\", ax=axes[0])  # Using the first subplot (index 0)\n",
    "axes[0].set_title('Amino Acid Occurrences at Each Position in TRA')\n",
    "axes[0].set_xlabel('Amino acid')\n",
    "axes[0].set_ylabel('position')\n",
    "\n",
    "# Plot for TRB\n",
    "sns.heatmap(TRB_groups, cmap=\"seismic\", annot=False, fmt=\"d\", ax=axes[1])  # Using the second subplot (index 1)\n",
    "axes[1].set_title('Amino Acid Occurrences at Each Position in TRB')\n",
    "axes[1].set_xlabel('Amino acid')\n",
    "axes[1].set_ylabel('position')\n",
    "\n",
    "plt.savefig('plots/AA_pergroup_perposition.png', bbox_inches='tight')\n",
    "plt.close()"
   ],
   "metadata": {
    "collapsed": false,
    "ExecuteTime": {
     "end_time": "2024-06-19T13:15:35.250549Z",
     "start_time": "2024-06-19T13:15:34.061142Z"
    }
   },
   "id": "19bd62eb8c42f4d9",
   "outputs": [
    {
     "name": "stdout",
     "output_type": "stream",
     "text": [
      "['electric_positive', 'electric_negative', 'uncharged_polar', 'Hydrophobic', 'special']\n"
     ]
    }
   ],
   "execution_count": 12
  },
  {
   "cell_type": "code",
   "source": [
    "def calculate_relative_frequency(df):\n",
    "    # Calculate the sum of absolute frequencies per row\n",
    "    row_sums = df.sum(axis=1)\n",
    "    \n",
    "    # Divide each absolute frequency value by the sum for its respective row\n",
    "    relative_df = df.div(row_sums, axis=0)\n",
    "    \n",
    "    return relative_df\n",
    "    \n",
    "TRA_relative = calculate_relative_frequency(resultA_df)\n",
    "TRB_relative = calculate_relative_frequency(resultB_df)\n"
   ],
   "metadata": {
    "collapsed": false,
    "ExecuteTime": {
     "end_time": "2024-06-19T13:15:35.262225Z",
     "start_time": "2024-06-19T13:15:35.250549Z"
    }
   },
   "id": "270ffaec3fc9a145",
   "outputs": [],
   "execution_count": 13
  },
  {
   "cell_type": "code",
   "source": [
    "import logomaker as lg\n",
    "# Create a new figure with two subplots\n",
    "fig, axes = plt.subplots(2, 1, figsize=(12, 6))\n",
    "\n",
    "# Plot TRA_relative on the first subplot\n",
    "lg.Logo(TRA_relative, ax=axes[0])\n",
    "axes[0].set_title('TRA', fontsize= 30)\n",
    "\n",
    "# Plot TRB_relative on the second subplot\n",
    "lg.Logo(TRB_relative, ax=axes[1])\n",
    "axes[1].set_title('TRB', fontsize= 30)\n",
    "\n",
    "# Adjust layout and save the figure\n",
    "plt.savefig('plots/sequence_logos.png')\n",
    "plt.close()\n"
   ],
   "metadata": {
    "collapsed": false,
    "ExecuteTime": {
     "end_time": "2024-06-19T13:15:41.493811Z",
     "start_time": "2024-06-19T13:15:35.262225Z"
    }
   },
   "id": "42a44c05a58fa330",
   "outputs": [],
   "execution_count": 14
  },
  {
   "cell_type": "code",
   "source": [
    "# to get epitope species distribution\n",
    "epitopes_species = list_all_values_df(df, 'Epitope species')\n",
    "epitopes_species_counts = count_types_column(df, 'Epitope species', epitopes_species)\n",
    "epitopes_species_counts_df = pd.Series(epitopes_species_counts)\n",
    "epitopes_species_counts_df = epitopes_species_counts_df.sort_values(ascending=False)\n",
    "ax = sns.barplot(data=epitopes_species_counts_df, )\n",
    "for i in ax.containers:\n",
    "    ax.bar_label(i, label_type='edge', rotation=90) \n",
    "    \n",
    "ax.set_yscale('log')\n",
    "ax.set_xlabel('Epitope species')\n",
    "ax.set_ylabel('Count (log scale)')\n",
    "\n",
    "ax.tick_params(labelrotation=90)\n",
    "plt.savefig('plots/epitopes_species_distribution.png', bbox_inches='tight')\n",
    "plt.close()\n"
   ],
   "metadata": {
    "collapsed": false,
    "ExecuteTime": {
     "end_time": "2024-06-19T13:15:43.081142Z",
     "start_time": "2024-06-19T13:15:41.493811Z"
    }
   },
   "id": "4c874693e0861d88",
   "outputs": [],
   "execution_count": 15
  },
  {
   "cell_type": "code",
   "source": [
    "epitope_kind = {\n",
    "    \"viruses\": [\"AdV\", \"CMV\", \"DENV1\", \"DENV2\", \"DENV3/4\", \"EBV\", \"HCV\", \"HCoV-HKU1\", \"HHV\", \"HIV\", \"HIV-1\", \"HIV1\", \"HPV\", \"HPV-16\", \"HSV-2\", \"HTLV-1\", \"InfluenzaA\", \"MCPyV\", \"SARS-CoV-2\", \"YFV\"],\n",
    "    \"bacteria\": [\"E.Coli\", \"PseudomonasAeruginosa\", \"PseudomonasFluorescens\", \"StreptomycesKanamyceticus\", \"M.tuberculosis\"],\n",
    "    \"human\": [\"Homo sapiens\", \"HomoSapiens\"],\n",
    "    \"other\": [\"synthetic\", \"SaccharomycesCerevisiae\", \"SelaginellaMoellendorffii\", \"TriticumAestivum\", \"Wheat\"]\n",
    "}\n",
    "epitope_kind_counts = {}\n",
    "for key, value in epitope_kind.items():\n",
    "    counter = 0\n",
    "    for index, row in df.iterrows():\n",
    "        if row['Epitope species'] in value:\n",
    "            counter += 1\n",
    "    epitope_kind_counts[key] = counter\n",
    "\n",
    "epitope_kind_counts = pd.DataFrame(epitope_kind_counts.items(), columns=['Species group', 'Counts'])\n",
    "\n",
    "# Create histogram using Seaborn\n",
    "ax = sns.barplot(x='Species group', y='Counts', data=epitope_kind_counts)\n",
    "ax.set_yscale('log')\n",
    "ax.set_ylabel('Count (log scale)')\n",
    "for i in ax.containers:\n",
    "    ax.bar_label(i,)\n",
    "plt.savefig('plots/epitope_kind.png', bbox_inches='tight')\n"
   ],
   "metadata": {
    "collapsed": false,
    "ExecuteTime": {
     "end_time": "2024-06-19T13:15:55.833406Z",
     "start_time": "2024-06-19T13:15:43.082209Z"
    }
   },
   "id": "2141bdc0168cc11e",
   "outputs": [
    {
     "data": {
      "text/plain": [
       "<Figure size 640x480 with 1 Axes>"
      ],
      "image/png": "[encoded data removed]"
     },
     "metadata": {},
     "output_type": "display_data"
    }
   ],
   "execution_count": 16
  },
  {
   "cell_type": "code",
   "source": [
    "aa_length = 15\n",
    "# \n",
    "# do a lot of the same for sequence length x\n",
    "# create a dataframe where only length x is present\n",
    "data_len15 = df[df['CDR3'].apply(lambda x: len(str(x)) == aa_length)]\n",
    "\n",
    "TRA_len15 =[]\n",
    "for index, row in data_len15.iterrows():\n",
    "    if row['Gene'] == 'TRA':\n",
    "        TRA_len15.append(row['CDR3'])\n",
    "        \n",
    "TRB_len15 = []\n",
    "for index, row in data_len15.iterrows():\n",
    "    if row['Gene'] == 'TRB':\n",
    "        TRB_len15.append(row['CDR3'])\n",
    "# distributions to validate its the same as total data set\n",
    "# tra vs trb amount \n",
    "print(f'Amount TRA: {len(TRA_len15)} , Amount TRB {len(TRB_len15)}')"
   ],
   "metadata": {
    "collapsed": false,
    "ExecuteTime": {
     "end_time": "2024-06-19T13:15:57.175225Z",
     "start_time": "2024-06-19T13:15:55.833406Z"
    }
   },
   "id": "7ec2aa4154af836c",
   "outputs": [
    {
     "name": "stdout",
     "output_type": "stream",
     "text": [
      "Amount TRA: 4425 , Amount TRB 8932\n"
     ]
    }
   ],
   "execution_count": 17
  },
  {
   "cell_type": "code",
   "source": [
    "# Make barplot of all mhc 1 vs mhc2\n",
    "MHC_1_count = get_amount_values(data_len15, 'MHC class', 'MHCI')\n",
    "MHC_2_count = get_amount_values(data_len15, 'MHC class', 'MHCII')\n",
    "MHC_count_15 = pd.DataFrame({'MHC class I': [MHC_1_count], 'MHC class II': [MHC_2_count]})\n",
    "\n",
    "ax = sns.barplot(data=MHC_count_15)\n",
    "for i in ax.containers:\n",
    "    ax.bar_label(i,)\n",
    "ax.set_xlabel('class')\n",
    "ax.set_ylabel('count')\n",
    "ax.set_title('MHC class distribution')\n",
    "\n",
    "plt.savefig(f'plots/len{aa_length}_MHC_distribution.png', bbox_inches='tight')\n",
    "plt.close()\n",
    "\n",
    "# heatmap of amino acids\n",
    "# Count amino acids for TRA and TRB per position\n",
    "resultA_df = count_amino_acids(TRA_len15)\n",
    "resultA_df = resultA_df.reindex(sorted(resultA_df.columns), axis=1)\n",
    "\n",
    "resultB_df = count_amino_acids(TRB_len15)\n",
    "resultB_df = resultB_df.reindex(sorted(resultB_df.columns), axis=1)\n",
    "\n",
    "fig, axes = plt.subplots(1, 2, figsize=(20, 6))  # Creating subplots with 1 row and 2 columns\n",
    "\n",
    "# Plot for TRA\n",
    "sns.heatmap(resultA_df, cmap=\"seismic\", annot=False, fmt=\"d\", ax=axes[0])  # Using the first subplot (index 0)\n",
    "axes[0].set_title('TRA')\n",
    "axes[0].set_xlabel('Amino Acids')\n",
    "axes[0].set_ylabel('Position')\n",
    "\n",
    "# Plot for TRB\n",
    "sns.heatmap(resultB_df, cmap=\"seismic\", annot=False, fmt=\"d\", ax=axes[1])  # Using the second subplot (index 1)\n",
    "axes[1].set_title('TRB')\n",
    "axes[1].set_xlabel('Amino Acids')\n",
    "axes[1].set_ylabel('Position')\n",
    "\n",
    "plt.savefig(f'plots/AA_perposition_len{aa_length}.png', bbox_inches='tight')\n",
    "\n",
    "# sequence logo\n",
    "# calculate relative frequency\n",
    "TRA_len15_count = count_amino_acids(TRA_len15)\n",
    "TRB_len15_count = count_amino_acids(TRB_len15)\n",
    "TRA_len15_relative_frequency = calculate_relative_frequency(TRA_len15_count)\n",
    "TRB_len15_relative_frequency = calculate_relative_frequency(TRB_len15_count)\n",
    "\n",
    "# Create a new figure with two subplots\n",
    "fig, axes = plt.subplots(2, 1, figsize=(12, 6))\n",
    "\n",
    "# Plot TRA_relative on the first subplot\n",
    "lg.Logo(TRA_len15_relative_frequency, ax=axes[0])\n",
    "axes[0].set_title('TRA', fontsize= 30)\n",
    "\n",
    "# Plot TRB_relative on the second subplot\n",
    "lg.Logo(TRB_len15_relative_frequency, ax=axes[1])\n",
    "axes[1].set_title('TRB', fontsize= 30)\n",
    "\n",
    "# Adjust layout and save the figure\n",
    "plt.savefig(f'plots/sequence_logos_len{aa_length}.png')\n",
    "plt.close()\n",
    "\n",
    "# making relative aa heatmaps\n",
    "TRA_lenX_groups = count_amino_acids_group(TRA_len15_count, aa_groups)\n",
    "TRB_lenX_groups = count_amino_acids_group(TRB_len15_count, aa_groups)\n",
    "TRA_lenX_groups= TRA_groups[sorted(TRA_lenX_groups.columns)]\n",
    "TRB_lenX_groups= TRB_groups[sorted(TRB_lenX_groups.columns)]\n",
    "\n",
    "fig, axes = plt.subplots(1, 2, figsize=(20, 6))  # Creating subplots with 1 row and 2 columns\n",
    "\n",
    "# Plot for TRA\n",
    "sns.heatmap(TRA_lenX_groups, cmap=\"seismic\", annot=False, fmt=\"d\", ax=axes[0])  # Using the first subplot (index 0)\n",
    "axes[0].set_title('TRA')\n",
    "axes[0].set_xlabel('Amino acid groups')\n",
    "axes[0].set_ylabel('position')\n",
    "\n",
    "# Plot for TRB\n",
    "sns.heatmap(TRB_lenX_groups, cmap=\"seismic\", annot=False, fmt=\"d\", ax=axes[1])  # Using the second subplot (index 1)\n",
    "axes[1].set_title('TRB')\n",
    "axes[1].set_xlabel('Amino acids groups')\n",
    "axes[1].set_ylabel('position')\n",
    "\n",
    "plt.savefig(f'plots/AA_pergroup_perpositionlen{aa_length}.png', bbox_inches='tight')\n",
    "plt.close()\n"
   ],
   "metadata": {
    "collapsed": false,
    "ExecuteTime": {
     "end_time": "2024-06-19T13:29:03.708054Z",
     "start_time": "2024-06-19T13:28:54.318294Z"
    }
   },
   "id": "2dcaec104d26b717",
   "outputs": [
    {
     "data": {
      "text/plain": [
       "<Figure size 2000x600 with 4 Axes>"
      ],
      "image/png": "[encoded data removed]"
     },
     "metadata": {},
     "output_type": "display_data"
    }
   ],
   "execution_count": 20
  },
  {
   "cell_type": "code",
   "source": [
    "# graph for V and J gene usage\n",
    "V_genes = list_all_values_df(df, 'V')\n",
    "J_genes = list_all_values_df(df, 'J')\n",
    "\n",
    "print(len(V_genes), len(J_genes))\n",
    "print(V_genes)\n",
    "print(J_genes)"
   ],
   "metadata": {
    "collapsed": false,
    "ExecuteTime": {
     "end_time": "2024-06-19T13:16:05.347609Z",
     "start_time": "2024-06-19T13:16:05.267327Z"
    }
   },
   "id": "74baef8cf061ff3c",
   "outputs": [
    {
     "name": "stdout",
     "output_type": "stream",
     "text": [
      "106 66\n",
      "['TRBV20-1*01', 'TRBV5-1*01', 'TRBV10-3*01', 'TRBV4-1*01', 'TRBV6-6*01', 'TRBV15*01', 'TRBV18*01', 'TRBV7-2*01', 'TRBV29-1*01', 'TRBV5-6*01', 'TRBV7-9*01', 'TRBV19*01', 'TRBV27*01', 'TRBV7-7*01', 'TRBV12-4*01', 'TRBV28*01', 'TRBV3-1*01', 'TRBV6-5*01', 'TRBV9*01', 'TRBV4-2*01', 'TRBV30*01', 'TRBV12-3*01', 'TRBV11-1*01', 'TRBV5-5*01', 'TRBV7-8*01', 'TRBV6-1*01', 'TRBV2*01', 'TRBV25-1*01', 'TRBV20-1*02', 'TRBV14*01', 'TRBV11-2*01', 'TRBV11-3*01', 'TRBV7-3*01', 'TRBV6-2*01', 'TRBV24-1*01', 'TRBV7-6*01', 'TRBV10-2*01', 'TRBV5-4*01', 'TRBV4-3*01', 'TRBV13*01', 'TRBV16*01', 'TRAV26-1*01', 'TRAV24*01', 'TRAV26-2*01', 'TRAV19*01', 'TRAV35*01', 'TRAV20*01', 'TRAV29/DV5*01', 'TRAV13-1*01', 'TRAV36/DV7*01', 'TRAV8-2*01', 'TRAV27*01', 'TRAV8-6*01', 'TRAV9-2*01', 'TRAV23/DV6*01', 'TRAV38-2/DV8*01', 'TRAV18*01', 'TRAV8-3*01', 'TRAV22*01', 'TRAV13-2*01', 'TRAV21*01', 'TRAV8-4*01', 'TRAV5*01', 'TRAV12-2*01', 'TRAV38-1*01', 'TRAV12-1*01', 'TRAV1-2*01', 'TRAV39*01', 'TRAV16*01', 'TRAV17*01', 'TRAV10*01', 'TRBV10-1*01', 'TRAV3*01', 'TRAV1-1*01', 'TRBV6-4*01', 'TRAV14/DV4*01', 'TRBV12-5*01', 'TRAV25*01', 'TRAV4*01', 'TRAV41*01', 'TRAV6*01', 'TRAV8-1*01', 'TRBV6-3*01', 'TRAV12-3*01', 'TRAV2*01', 'TRAV30*01', 'TRAV34*01', 'TRAV40*01', 'TRBV5-8*01', 'TRBV7-2*03', 'TRBV6-9*01', 'TRBV7-4*01', 'TRBV6-6*02', 'TRBV6-8*01', 'TRBV6-4*02', 'TRAV8-6*02', 'TRBV7-9*03', 'TRBV9*02', 'TRBV19*02', 'TRAV14/DV4*02', 'TRBV10-3*02', 'TRBV7-8*02', 'TRBV7-2*02', 'TRAV7*01', 'TRAV9-1*01', nan]\n",
      "['TRBJ2-3*01', 'TRBJ1-1*01', 'TRBJ2-7*01', 'TRBJ2-5*01', 'TRBJ2-1*01', 'TRBJ1-5*01', 'TRBJ1-6*01', 'TRBJ1-2*01', 'TRBJ2-4*01', 'TRBJ2-2*01', 'TRBJ1-4*01', 'TRBJ1-3*01', 'TRBJ2-6*01', 'TRAJ37*01', 'TRAJ49*01', 'TRAJ43*01', 'TRAJ52*01', 'TRAJ53*01', 'TRAJ39*01', 'TRAJ10*01', 'TRAJ42*01', 'TRAJ32*01', 'TRAJ13*01', 'TRAJ8*01', 'TRAJ47*01', 'TRAJ29*01', 'TRAJ17*01', 'TRAJ38*01', 'TRAJ44*01', 'TRAJ26*01', 'TRAJ34*01', 'TRAJ40*01', 'TRAJ33*01', 'TRAJ23*01', 'TRAJ57*01', 'TRAJ6*01', 'TRAJ20*01', 'TRAJ30*01', 'TRAJ48*01', 'TRAJ31*01', 'TRAJ45*01', 'TRAJ50*01', 'TRAJ3*01', 'TRAJ4*01', 'TRAJ9*01', 'TRAJ36*01', 'TRAJ7*01', 'TRAJ12*01', 'TRAJ28*01', 'TRAJ27*01', 'TRAJ15*01', 'TRAJ21*01', 'TRAJ18*01', 'TRAJ41*01', 'TRAJ54*01', 'TRAJ11*01', 'TRAJ5*01', 'TRAJ22*01', 'TRAJ56*01', 'TRBJ1-6*02', 'TRAJ46*01', 'TRAJ14*01', 'TRAJ13*02', 'TRAJ24*02', nan, 'TRAJ24*01']\n"
     ]
    }
   ],
   "execution_count": 19
  },
  {
   "metadata": {
    "ExecuteTime": {
     "end_time": "2024-06-19T13:16:05.352648Z",
     "start_time": "2024-06-19T13:16:05.347609Z"
    }
   },
   "cell_type": "code",
   "source": "",
   "id": "1e09a74026f9b0ae",
   "outputs": [],
   "execution_count": 19
  }
 ],
 "metadata": {
  "kernelspec": {
   "display_name": "Python 3",
   "language": "python",
   "name": "python3"
  },
  "language_info": {
   "codemirror_mode": {
    "name": "ipython",
    "version": 2
   },
   "file_extension": ".py",
   "mimetype": "text/x-python",
   "name": "python",
   "nbconvert_exporter": "python",
   "pygments_lexer": "ipython2",
   "version": "2.7.6"
  }
 },
 "nbformat": 4,
 "nbformat_minor": 5
}
